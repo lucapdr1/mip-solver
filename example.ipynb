{
 "cells": [
  {
   "cell_type": "markdown",
   "metadata": {},
   "source": [
    "### Install needed dependencies\n",
    "- `xpress` to import the CPLEX solver\n",
    "\n",
    "*Note: first we need to install `numpy` being a needed dependency of the previous libraries*\n"
   ]
  },
  {
   "cell_type": "code",
   "execution_count": 1,
   "metadata": {
    "vscode": {
     "languageId": "bat"
    }
   },
   "outputs": [
    {
     "name": "stdout",
     "output_type": "stream",
     "text": [
      "Requirement already satisfied: numpy in c:\\users\\p2001\\anaconda3\\envs\\mip\\lib\\site-packages (1.26.4)\n"
     ]
    }
   ],
   "source": [
    "!pip install numpy"
   ]
  },
  {
   "cell_type": "code",
   "execution_count": 2,
   "metadata": {
    "vscode": {
     "languageId": "bat"
    }
   },
   "outputs": [
    {
     "name": "stdout",
     "output_type": "stream",
     "text": [
      "Requirement already satisfied: xpress in c:\\users\\p2001\\anaconda3\\envs\\mip\\lib\\site-packages (9.5.0)\n",
      "Requirement already satisfied: numpy<2.0a0,>=1.21 in c:\\users\\p2001\\anaconda3\\envs\\mip\\lib\\site-packages (from xpress) (1.26.4)\n",
      "Requirement already satisfied: xpresslibs==9.5.0 in c:\\users\\p2001\\anaconda3\\envs\\mip\\lib\\site-packages (from xpress) (9.5.0)\n"
     ]
    }
   ],
   "source": [
    "!pip install xpress"
   ]
  },
  {
   "cell_type": "markdown",
   "metadata": {},
   "source": [
    "### Example problem to test the xpress library was correctly installed"
   ]
  },
  {
   "cell_type": "code",
   "execution_count": 3,
   "metadata": {},
   "outputs": [
    {
     "name": "stdout",
     "output_type": "stream",
     "text": [
      "FICO Xpress v9.5.0, Community, solve started 21:28:07, Dec 13, 2024\n",
      "Heap usage: 387KB (peak 387KB, 102KB system)\n",
      "Minimizing MIQP example using up to 8 threads and up to 8087MB memory, with these control settings:\n",
      "OUTPUTLOG = 1\n",
      "NLPPOSTSOLVE = 1\n",
      "XSLP_DELETIONCONTROL = 0\n",
      "XSLP_OBJSENSE = 1\n",
      "Original problem has:\n",
      "         1 rows            2 cols            2 elements         1 entities\n",
      "         1 qobjelem\n",
      "Presolved problem has:\n",
      "         1 rows            2 cols            2 elements         1 entities\n",
      "         1 qobjelem\n",
      "Presolve finished in 0 seconds\n",
      "Heap usage: 416KB (peak 431KB, 102KB system)\n",
      "\n",
      "Coefficient range                    original                 solved        \n",
      "  Coefficients   [min,max] : [ 1.00e+00,  3.00e+00] / [ 1.00e+00,  3.00e+00]\n",
      "  RHS and bounds [min,max] : [ 4.00e+00,  1.00e+01] / [ 4.00e+00,  1.00e+01]\n",
      "  Objective      [min,max] : [ 2.00e+00,  2.00e+00] / [ 2.00e+00,  2.00e+00]\n",
      "  Quadratic      [min,max] : [ 2.00e+00,  2.00e+00] / [ 2.00e+00,  2.00e+00]\n",
      "Autoscaling applied standard scaling\n",
      "\n",
      "Will try to keep branch and bound tree memory usage below 1.1GB\n",
      " *** Solution found:   109.333333   Time:   0.08    Heuristic: T ***\n",
      " \n",
      "   Its         Obj Value      S   Ninf  Nneg   Sum Dual Inf  Time\n",
      "     0           .000000      D      1     0        .000000     0\n",
      "     1           .000000      D      0     0        .000000     0\n",
      "     1         16.000000      P      0     0        .000000     0\n",
      " \n",
      "   Its         Obj Value      S   Nsft  Nneg       Dual Inf  Time\n",
      "     2          2.555556     QP      0     0        .000000     0\n",
      "QP solution found\n",
      "Optimal solution found\n",
      "Primal solved problem\n",
      "  2 simplex iterations in 0.01 seconds at time 0\n",
      "\n",
      "Final objective                       : 2.555555555555555e+00\n",
      "  Max primal violation      (abs/rel) :       0.0 /       0.0\n",
      "  Max dual violation        (abs/rel) :       0.0 /       0.0\n",
      "  Max complementarity viol. (abs/rel) : 2.171e-15 / 7.237e-16\n",
      "\n",
      "Starting root cutting & heuristics\n",
      "Deterministic mode with up to 1 additional thread\n",
      " \n",
      " Its Type    BestSoln    BestBound   Sols    Add    Del     Gap     GInf   Time\n",
      "a            2.666667     2.555556      2                  4.17%       0      0\n",
      " *** Search completed ***\n",
      "Uncrunching matrix\n",
      "Final MIP objective                   : 2.666666666666667e+00\n",
      "Final MIP bound                       : 2.666656666666666e+00\n",
      "  Solution time / primaldual integral :      0.11s/ 87.737193%\n",
      "  Number of solutions found / nodes   :         2 /         1\n",
      "  Max primal violation      (abs/rel) :       0.0 /       0.0\n",
      "  Max integer violation     (abs    ) :       0.0\n",
      "solution: x1 = 0.0; x2 = 1.3333333333333333\n"
     ]
    },
    {
     "name": "stderr",
     "output_type": "stream",
     "text": [
      "C:\\Users\\P2001\\AppData\\Local\\Temp\\ipykernel_3488\\3312701003.py:2: LicenseWarning: Using the Community license in this session. If you have a full Xpress license, pass the full path to your license file to xpress.init(). If you want to use the FICO Community license and no longer want to see this message, use the following code before using the xpress module:\n",
      "  xpress.init('c:/Users/P2001/anaconda3/envs/mip/lib/site-packages/xpress/license/community-xpauth.xpr')\n",
      "  p = xp.problem(name='example')  # problem name (optional)\n"
     ]
    }
   ],
   "source": [
    "import xpress as xp\n",
    "p = xp.problem(name='example')  # problem name (optional)\n",
    "x1 = p.addVariable(vartype=xp.integer, name='x1', lb=-10, ub=10)\n",
    "x2 = p.addVariable(name='x2')\n",
    "p.setObjective(x1**2 + 2*x2)      # objective function\n",
    "p.addConstraint(x1 + 3*x2 >= 4)   # one or more constraints\n",
    "p.optimize()\n",
    "print (\"solution: {0} = {1}; {2} = {3}\".format (x1.name, p.getSolution(x1), x2.name, p.getSolution(x2)))"
   ]
  },
  {
   "cell_type": "markdown",
   "metadata": {},
   "source": [
    "### Example of loading and mps problem"
   ]
  },
  {
   "cell_type": "code",
   "execution_count": 1,
   "metadata": {},
   "outputs": [
    {
     "name": "stdout",
     "output_type": "stream",
     "text": [
      "Reading Problem 22433\n",
      "Problem Statistics\n",
      "         198 (      1 spare) rows\n",
      "         429 (      0 spare) structural columns\n",
      "        3408 (      1 spare) non-zero elements\n",
      "MIP Entity Statistics\n",
      "         231 entities        0 sets        0 set members\n",
      "Successfully loaded input/example.mps\n"
     ]
    },
    {
     "name": "stderr",
     "output_type": "stream",
     "text": [
      "C:\\Users\\P2001\\AppData\\Local\\Temp\\ipykernel_10932\\1080014326.py:7: LicenseWarning: Using the Community license in this session. If you have a full Xpress license, pass the full path to your license file to xpress.init(). If you want to use the FICO Community license and no longer want to see this message, use the following code before using the xpress module:\n",
      "  xpress.init('c:/Users/P2001/anaconda3/envs/mip/lib/site-packages/xpress/license/community-xpauth.xpr')\n",
      "  model = xp.problem()\n"
     ]
    }
   ],
   "source": [
    "import xpress as xp\n",
    "\n",
    "# Path to the specific .mps file\n",
    "file_path = \"input/example.mps\"\n",
    "\n",
    "# Create a new Xpress model\n",
    "model = xp.problem()\n",
    "\n",
    "# Load the .mps file\n",
    "try:\n",
    "    model.read(file_path)\n",
    "    print(f\"Successfully loaded {file_path}\")\n",
    "except Exception as e:\n",
    "    print(f\"Error loading file {file_path}: {e}\")\n",
    "    exit()"
   ]
  },
  {
   "cell_type": "code",
   "execution_count": 3,
   "metadata": {},
   "outputs": [
    {
     "name": "stdout",
     "output_type": "stream",
     "text": [
      "Reading Problem 22433\n",
      "Problem Statistics\n",
      "         198 (      1 spare) rows\n",
      "         429 (      0 spare) structural columns\n",
      "        3408 (      1 spare) non-zero elements\n",
      "MIP Entity Statistics\n",
      "         231 entities        0 sets        0 set members\n",
      "Successfully loaded input/example.mps\n",
      "FICO Xpress v9.5.0, Community, solve started 21:31:18, Dec 13, 2024\n",
      "Heap usage: 491KB (peak 491KB, 94KB system)\n",
      "Minimizing MILP 22433 using up to 8 threads and up to 8087MB memory, with these control settings:\n",
      "OUTPUTLOG = 1\n",
      "NLPPOSTSOLVE = 1\n",
      "XSLP_DELETIONCONTROL = 0\n",
      "XSLP_OBJSENSE = 1\n",
      "Original problem has:\n",
      "       198 rows          429 cols         3408 elements       231 entities\n",
      "Presolved problem has:\n",
      "       198 rows          231 cols         3210 elements       231 entities\n",
      "Presolve finished in 0 seconds\n",
      "Heap usage: 829KB (peak 957KB, 94KB system)\n",
      "\n",
      "Coefficient range                    original                 solved        \n",
      "  Coefficients   [min,max] : [ 1.00e+00,  1.05e+03] / [ 3.91e-02,  1.03e+00]\n",
      "  RHS and bounds [min,max] : [ 1.00e+00,  2.16e+04] / [ 1.00e+00,  7.00e+01]\n",
      "  Objective      [min,max] : [ 1.00e+00,  1.00e+00] / [ 4.00e+01,  1.05e+03]\n",
      "Autoscaling applied standard scaling\n",
      "\n",
      "Will try to keep branch and bound tree memory usage below 1.1GB\n",
      "Starting concurrent solve with dual (1 thread)\n",
      "\n",
      " Concurrent-Solve,   0s\n",
      "            Dual        \n",
      "    objective   sum inf \n",
      " P  21240.526   .0000000\n",
      "                        \n",
      "------- optimal --------\n",
      "Concurrent statistics:\n",
      "           Dual: 182 simplex iterations, 0.01s\n",
      "Optimal solution found\n",
      " \n",
      "   Its         Obj Value      S   Ninf  Nneg        Sum Inf  Time\n",
      "   182       21240.52617      P      0     0        .000000     0\n",
      "Dual solved problem\n",
      "  182 simplex iterations in 0.01 seconds at time 0\n",
      "\n",
      "Final objective                       : 2.124052617079889e+04\n",
      "  Max primal violation      (abs/rel) : 4.441e-16 / 4.441e-16\n",
      "  Max dual violation        (abs/rel) :       0.0 /       0.0\n",
      "  Max complementarity viol. (abs/rel) :       0.0 /       0.0\n",
      "\n",
      "Starting root cutting & heuristics\n",
      "Deterministic mode with up to 1 additional thread\n",
      " \n",
      " Its Type    BestSoln    BestBound   Sols    Add    Del     Gap     GInf   Time\n",
      "   1  K                21240.52617      0      0      0               89      0\n",
      "Heuristic search 'R' started\n",
      "Heuristic search 'R' stopped\n",
      "\n",
      "Starting tree search.\n",
      "Deterministic mode with up to 8 running threads and up to 16 tasks.\n",
      "Heap usage: 4080KB (peak 8355KB, 105KB system)\n",
      " \n",
      "    Node     BestSoln    BestBound   Sols Active  Depth     Gap     GInf   Time\n",
      "       1               21335.74708      0      2      1               89      0\n",
      "       2               21335.74708      0      2      3              101      0\n",
      "       3               21335.74708      0      2      3               95      0\n",
      "       4               21335.74708      0      2      4               84      0\n",
      "       5               21335.74708      0      2      3               88      0\n",
      "       6               21335.74708      0      2      3              107      0\n",
      "E      7  21477.00000  21335.74708      1      1      5    0.66%       0      0\n",
      "       7  21477.00000  21335.74708      1      1      5    0.66%       4      0\n",
      "       9  21477.00000  21433.19231      1      2      1    0.20%       2      0\n",
      "      10  21477.00000  21433.19231      1      2      5    0.20%       4      0\n",
      " *** Search completed ***\n",
      "Uncrunching matrix\n",
      "Final MIP objective                   : 2.147700000000000e+04\n",
      "Final MIP bound                       : 2.147700000000000e+04\n",
      "  Solution time / primaldual integral :      0.59s/ 95.613541%\n",
      "  Number of solutions found / nodes   :         1 /        11\n",
      "  Max primal violation      (abs/rel) : 3.638e-12 / 2.415e-14\n",
      "  Max integer violation     (abs    ) : 6.967e-15\n",
      "Solving completed for input/example.mps\n",
      "Solver finished with status 6.\n"
     ]
    },
    {
     "name": "stderr",
     "output_type": "stream",
     "text": [
      "C:\\Users\\P2001\\AppData\\Local\\Temp\\ipykernel_10932\\2514539913.py:26: DeprecationWarning: Deprecated in Xpress 9.5: use problem.attributes.solvestatus and problem.attributes.solstatus instead\n",
      "  status = model.getProbStatus()\n"
     ]
    }
   ],
   "source": [
    "import xpress as xp\n",
    "\n",
    "# Path to the specific .mps file\n",
    "file_path = \"input/example.mps\"\n",
    "\n",
    "# Create a new Xpress model\n",
    "model = xp.problem()\n",
    "\n",
    "# Load the .mps file\n",
    "try:\n",
    "    model.read(file_path)  # Load the file\n",
    "    print(f\"Successfully loaded {file_path}\")\n",
    "except Exception as e:\n",
    "    print(f\"Error loading file {file_path}: {e}\")\n",
    "    exit()\n",
    "\n",
    "# Solve the problem\n",
    "try:\n",
    "    model.solve()\n",
    "    print(f\"Solving completed for {file_path}\")\n",
    "except Exception as e:\n",
    "    print(f\"Error solving file {file_path}: {e}\")\n",
    "    exit()\n",
    "\n",
    "# Check and display results\n",
    "status = model.getProbStatus()\n",
    "\n",
    "# Interpret solver status based on Xpress documentation\n",
    "if status == 0:  # Status 0 typically means 'optimal'\n",
    "    print(f\"Optimal solution found for {file_path}!\")\n",
    "    print(f\"Objective Value: {model.getObjVal()}\")\n",
    "    solution = model.getSolution()\n",
    "    for idx, value in enumerate(solution):\n",
    "        print(f\"Variable {idx}: {value}\")\n",
    "elif status == 1:  # Status 1 might indicate 'infeasible'\n",
    "    print(f\"The problem is infeasible for {file_path}.\")\n",
    "elif status == 2:  # Status 2 might indicate 'unbounded'\n",
    "    print(f\"The problem is unbounded for {file_path}.\")\n",
    "else:\n",
    "    print(f\"Solver finished with status {status}.\")\n"
   ]
  },
  {
   "cell_type": "code",
   "execution_count": null,
   "metadata": {},
   "outputs": [],
   "source": []
  }
 ],
 "metadata": {
  "kernelspec": {
   "display_name": "mip",
   "language": "python",
   "name": "python3"
  },
  "language_info": {
   "codemirror_mode": {
    "name": "ipython",
    "version": 3
   },
   "file_extension": ".py",
   "mimetype": "text/x-python",
   "name": "python",
   "nbconvert_exporter": "python",
   "pygments_lexer": "ipython3",
   "version": "3.10.15"
  }
 },
 "nbformat": 4,
 "nbformat_minor": 2
}
