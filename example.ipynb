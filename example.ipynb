{
 "cells": [
  {
   "cell_type": "markdown",
   "metadata": {},
   "source": [
    "### Install needed dependencies\n",
    "- `xpress` to import the CPLEX solver\n",
    "\n",
    "*Note: first we need to install `numpy` being a needed dependency of the previous libraries*\n"
   ]
  },
  {
   "cell_type": "code",
   "execution_count": 3,
   "metadata": {
    "vscode": {
     "languageId": "bat"
    }
   },
   "outputs": [
    {
     "name": "stdout",
     "output_type": "stream",
     "text": [
      "Collecting numpy\n",
      "  Using cached numpy-2.1.3-cp310-cp310-win_amd64.whl.metadata (60 kB)\n",
      "Downloading numpy-2.1.3-cp310-cp310-win_amd64.whl (12.9 MB)\n",
      "   ---------------------------------------- 0.0/12.9 MB ? eta -:--:--\n",
      "    --------------------------------------- 0.3/12.9 MB ? eta -:--:--\n",
      "   - -------------------------------------- 0.5/12.9 MB 1.2 MB/s eta 0:00:11\n",
      "   -- ------------------------------------- 0.8/12.9 MB 1.2 MB/s eta 0:00:11\n",
      "   --- ------------------------------------ 1.0/12.9 MB 1.2 MB/s eta 0:00:10\n",
      "   ---- ----------------------------------- 1.3/12.9 MB 1.2 MB/s eta 0:00:10\n",
      "   ---- ----------------------------------- 1.6/12.9 MB 1.2 MB/s eta 0:00:10\n",
      "   ---- ----------------------------------- 1.6/12.9 MB 1.2 MB/s eta 0:00:10\n",
      "   ------ --------------------------------- 2.1/12.9 MB 1.2 MB/s eta 0:00:09\n",
      "   ------- -------------------------------- 2.4/12.9 MB 1.2 MB/s eta 0:00:09\n",
      "   -------- ------------------------------- 2.6/12.9 MB 1.2 MB/s eta 0:00:09\n",
      "   -------- ------------------------------- 2.9/12.9 MB 1.2 MB/s eta 0:00:09\n",
      "   --------- ------------------------------ 3.1/12.9 MB 1.2 MB/s eta 0:00:09\n",
      "   ---------- ----------------------------- 3.4/12.9 MB 1.2 MB/s eta 0:00:08\n",
      "   ----------- ---------------------------- 3.7/12.9 MB 1.2 MB/s eta 0:00:08\n",
      "   ------------ --------------------------- 3.9/12.9 MB 1.2 MB/s eta 0:00:08\n",
      "   ------------- -------------------------- 4.2/12.9 MB 1.2 MB/s eta 0:00:08\n",
      "   ------------- -------------------------- 4.2/12.9 MB 1.2 MB/s eta 0:00:08\n",
      "   -------------- ------------------------- 4.7/12.9 MB 1.2 MB/s eta 0:00:07\n",
      "   --------------- ------------------------ 5.0/12.9 MB 1.2 MB/s eta 0:00:07\n",
      "   ---------------- ----------------------- 5.2/12.9 MB 1.2 MB/s eta 0:00:07\n",
      "   ----------------- ---------------------- 5.5/12.9 MB 1.2 MB/s eta 0:00:07\n",
      "   ----------------- ---------------------- 5.8/12.9 MB 1.2 MB/s eta 0:00:06\n",
      "   ----------------- ---------------------- 5.8/12.9 MB 1.2 MB/s eta 0:00:06\n",
      "   ------------------ --------------------- 6.0/12.9 MB 1.2 MB/s eta 0:00:06\n",
      "   ------------------- -------------------- 6.3/12.9 MB 1.2 MB/s eta 0:00:06\n",
      "   -------------------- ------------------- 6.6/12.9 MB 1.2 MB/s eta 0:00:06\n",
      "   --------------------- ------------------ 6.8/12.9 MB 1.2 MB/s eta 0:00:06\n",
      "   ---------------------- ----------------- 7.1/12.9 MB 1.2 MB/s eta 0:00:05\n",
      "   ---------------------- ----------------- 7.3/12.9 MB 1.2 MB/s eta 0:00:05\n",
      "   ----------------------- ---------------- 7.6/12.9 MB 1.2 MB/s eta 0:00:05\n",
      "   ------------------------ --------------- 7.9/12.9 MB 1.2 MB/s eta 0:00:05\n",
      "   ------------------------- -------------- 8.1/12.9 MB 1.2 MB/s eta 0:00:04\n",
      "   -------------------------- ------------- 8.4/12.9 MB 1.2 MB/s eta 0:00:04\n",
      "   -------------------------- ------------- 8.7/12.9 MB 1.2 MB/s eta 0:00:04\n",
      "   --------------------------- ------------ 8.9/12.9 MB 1.2 MB/s eta 0:00:04\n",
      "   ---------------------------- ----------- 9.2/12.9 MB 1.2 MB/s eta 0:00:04\n",
      "   ----------------------------- ---------- 9.4/12.9 MB 1.2 MB/s eta 0:00:03\n",
      "   ------------------------------ --------- 9.7/12.9 MB 1.2 MB/s eta 0:00:03\n",
      "   ------------------------------ --------- 10.0/12.9 MB 1.2 MB/s eta 0:00:03\n",
      "   ------------------------------- -------- 10.2/12.9 MB 1.2 MB/s eta 0:00:03\n",
      "   -------------------------------- ------- 10.5/12.9 MB 1.2 MB/s eta 0:00:02\n",
      "   --------------------------------- ------ 10.7/12.9 MB 1.2 MB/s eta 0:00:02\n",
      "   ---------------------------------- ----- 11.0/12.9 MB 1.2 MB/s eta 0:00:02\n",
      "   ----------------------------------- ---- 11.3/12.9 MB 1.2 MB/s eta 0:00:02\n",
      "   ----------------------------------- ---- 11.5/12.9 MB 1.2 MB/s eta 0:00:02\n",
      "   ------------------------------------ --- 11.8/12.9 MB 1.2 MB/s eta 0:00:01\n",
      "   ------------------------------------- -- 12.1/12.9 MB 1.2 MB/s eta 0:00:01\n",
      "   -------------------------------------- - 12.3/12.9 MB 1.2 MB/s eta 0:00:01\n",
      "   ---------------------------------------  12.6/12.9 MB 1.2 MB/s eta 0:00:01\n",
      "   ---------------------------------------- 12.9/12.9 MB 1.2 MB/s eta 0:00:00\n",
      "Installing collected packages: numpy\n",
      "Successfully installed numpy-2.1.3\n"
     ]
    }
   ],
   "source": [
    "!pip install numpy"
   ]
  },
  {
   "cell_type": "code",
   "execution_count": 7,
   "metadata": {
    "vscode": {
     "languageId": "bat"
    }
   },
   "outputs": [
    {
     "name": "stdout",
     "output_type": "stream",
     "text": [
      "Collecting xpress\n",
      "  Using cached xpress-9.5.0-cp310-cp310-win_amd64.whl.metadata (5.5 kB)\n",
      "Collecting numpy<2.0a0,>=1.21 (from xpress)\n",
      "  Using cached numpy-1.26.4-cp310-cp310-win_amd64.whl.metadata (61 kB)\n",
      "Collecting xpresslibs==9.5.0 (from xpress)\n",
      "  Using cached xpresslibs-9.5.0-cp38-abi3-win_amd64.whl.metadata (1.5 kB)\n",
      "Using cached xpress-9.5.0-cp310-cp310-win_amd64.whl (2.3 MB)\n",
      "Using cached xpresslibs-9.5.0-cp38-abi3-win_amd64.whl (45.9 MB)\n",
      "Using cached numpy-1.26.4-cp310-cp310-win_amd64.whl (15.8 MB)\n",
      "Installing collected packages: xpresslibs, numpy, xpress\n",
      "  Attempting uninstall: numpy\n",
      "    Found existing installation: numpy 2.1.3\n",
      "    Uninstalling numpy-2.1.3:\n",
      "      Successfully uninstalled numpy-2.1.3\n",
      "Successfully installed numpy-1.26.4 xpress-9.5.0 xpresslibs-9.5.0\n"
     ]
    }
   ],
   "source": [
    "!pip install xpress"
   ]
  },
  {
   "cell_type": "markdown",
   "metadata": {},
   "source": [
    "### Example problem to test the xpress library was correctly installed"
   ]
  },
  {
   "cell_type": "code",
   "execution_count": null,
   "metadata": {},
   "outputs": [
    {
     "name": "stdout",
     "output_type": "stream",
     "text": [
      "FICO Xpress v9.5.0, Community, solve started 20:51:02, Nov 27, 2024\n",
      "Heap usage: 387KB (peak 387KB, 106KB system)\n",
      "Minimizing MIQP myexample using up to 8 threads and up to 8087MB memory, with these control settings:\n",
      "OUTPUTLOG = 1\n",
      "NLPPOSTSOLVE = 1\n",
      "XSLP_DELETIONCONTROL = 0\n",
      "XSLP_OBJSENSE = 1\n",
      "Original problem has:\n",
      "         1 rows            2 cols            2 elements         1 entities\n",
      "         1 qobjelem\n",
      "Presolved problem has:\n",
      "         1 rows            2 cols            2 elements         1 entities\n",
      "         1 qobjelem\n",
      "Presolve finished in 0 seconds\n",
      "Heap usage: 416KB (peak 431KB, 106KB system)\n",
      "\n",
      "Coefficient range                    original                 solved        \n",
      "  Coefficients   [min,max] : [ 1.00e+00,  3.00e+00] / [ 1.00e+00,  3.00e+00]\n",
      "  RHS and bounds [min,max] : [ 4.00e+00,  1.00e+01] / [ 4.00e+00,  1.00e+01]\n",
      "  Objective      [min,max] : [ 2.00e+00,  2.00e+00] / [ 2.00e+00,  2.00e+00]\n",
      "  Quadratic      [min,max] : [ 2.00e+00,  2.00e+00] / [ 2.00e+00,  2.00e+00]\n",
      "Autoscaling applied standard scaling\n",
      "\n",
      "Will try to keep branch and bound tree memory usage below 1.0GB\n",
      " *** Solution found:   109.333333   Time:   0.01    Heuristic: T ***\n",
      " \n",
      "   Its         Obj Value      S   Ninf  Nneg   Sum Dual Inf  Time\n",
      "     0           .000000      D      1     0        .000000     0\n",
      "     1           .000000      D      0     0        .000000     0\n",
      "     1         16.000000      P      0     0        .000000     0\n",
      " \n",
      "   Its         Obj Value      S   Nsft  Nneg       Dual Inf  Time\n",
      "     2          2.555556     QP      0     0        .000000     0\n",
      "QP solution found\n",
      "Optimal solution found\n",
      "Primal solved problem\n",
      "  2 simplex iterations in 0.00 seconds at time 0\n",
      "\n",
      "Final objective                       : 2.555555555555555e+00\n",
      "  Max primal violation      (abs/rel) :       0.0 /       0.0\n",
      "  Max dual violation        (abs/rel) :       0.0 /       0.0\n",
      "  Max complementarity viol. (abs/rel) : 2.171e-15 / 7.237e-16\n",
      "\n",
      "Starting root cutting & heuristics\n",
      "Deterministic mode with up to 1 additional thread\n",
      " \n",
      " Its Type    BestSoln    BestBound   Sols    Add    Del     Gap     GInf   Time\n",
      "a            2.666667     2.555556      2                  4.17%       0      0\n",
      " *** Search completed ***\n",
      "Uncrunching matrix\n",
      "Final MIP objective                   : 2.666666666666667e+00\n",
      "Final MIP bound                       : 2.666656666666666e+00\n",
      "  Solution time / primaldual integral :      0.01s/ 44.983094%\n",
      "  Number of solutions found / nodes   :         2 /         1\n",
      "  Max primal violation      (abs/rel) :       0.0 /       0.0\n",
      "  Max integer violation     (abs    ) :       0.0\n",
      "solution: x1 = 0.0; x2 = 1.3333333333333333\n"
     ]
    }
   ],
   "source": [
    "import xpress as xp\n",
    "p = xp.problem(name='example')  # problem name (optional)\n",
    "x1 = p.addVariable(vartype=xp.integer, name='x1', lb=-10, ub=10)\n",
    "x2 = p.addVariable(name='x2')\n",
    "p.setObjective(x1**2 + 2*x2)      # objective function\n",
    "p.addConstraint(x1 + 3*x2 >= 4)   # one or more constraints\n",
    "p.optimize()\n",
    "print (\"solution: {0} = {1}; {2} = {3}\".format (x1.name, p.getSolution(x1), x2.name, p.getSolution(x2)))"
   ]
  }
 ],
 "metadata": {
  "kernelspec": {
   "display_name": "mip",
   "language": "python",
   "name": "python3"
  },
  "language_info": {
   "codemirror_mode": {
    "name": "ipython",
    "version": 3
   },
   "file_extension": ".py",
   "mimetype": "text/x-python",
   "name": "python",
   "nbconvert_exporter": "python",
   "pygments_lexer": "ipython3",
   "version": "3.10.15"
  }
 },
 "nbformat": 4,
 "nbformat_minor": 2
}
